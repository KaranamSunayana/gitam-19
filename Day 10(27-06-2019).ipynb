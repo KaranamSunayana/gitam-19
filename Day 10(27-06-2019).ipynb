{
 "cells": [
  {
   "cell_type": "markdown",
   "metadata": {},
   "source": [
    "#### keyboard as input and screen as output read or write"
   ]
  },
  {
   "cell_type": "code",
   "execution_count": 25,
   "metadata": {},
   "outputs": [
    {
     "name": "stdout",
     "output_type": "stream",
     "text": [
      "File is created successfully and data is written\n"
     ]
    }
   ],
   "source": [
    "#Function to create a file and write some data\n",
    "def createFile(filename):\n",
    "    f = open(filename,\"w\")\n",
    "    for i in range(10):\n",
    "        f.write(\"This is %d Line\\n\"% i)\n",
    "    print(\"File is created successfully and data is written\")\n",
    "    f.close()\n",
    "    return\n",
    "createFile(\"file1.txt\")"
   ]
  },
  {
   "cell_type": "code",
   "execution_count": 19,
   "metadata": {},
   "outputs": [
    {
     "name": "stdout",
     "output_type": "stream",
     "text": [
      "This is 0 Line\n",
      "This is 1 Line\n",
      "This is 2 Line\n",
      "This is 3 Line\n",
      "This is 4 Line\n",
      "This is 5 Line\n",
      "This is 6 Line\n",
      "This is 7 Line\n",
      "This is 8 Line\n",
      "This is 9 Line\n",
      "\n"
     ]
    }
   ],
   "source": [
    "def readFile(filename):\n",
    "    f = open(filename,\"r\")\n",
    "    if f.mode == \"r\":\n",
    "        x=f.read()\n",
    "        print(x)\n",
    "    f.close()\n",
    "    return\n",
    "readFile(\"file1.txt\")"
   ]
  },
  {
   "cell_type": "code",
   "execution_count": 27,
   "metadata": {},
   "outputs": [
    {
     "name": "stdout",
     "output_type": "stream",
     "text": [
      "File is created successfully and data is written\n"
     ]
    }
   ],
   "source": [
    "def createFile(filename):\n",
    "    f = open(filename,\"w\")\n",
    "    for i in range(10):\n",
    "        f.write(\"Test %d Line\\n\"% i)\n",
    "    print(\"File is created successfully and data is written\")\n",
    "    f.close()\n",
    "    return\n",
    "createFile(\"file1.txt\")"
   ]
  },
  {
   "cell_type": "code",
   "execution_count": 28,
   "metadata": {},
   "outputs": [],
   "source": [
    "#Data to append\n",
    "#Function to append the data to existing file\n",
    "def appendData(filename):\n",
    "    f=open(filename,\"a\")\n",
    "    f.write(\"New line 1\\n\")\n",
    "    f.write(\"New line\")\n",
    "    f.close()\n",
    "    return\n",
    "appendData(\"file1.txt\")"
   ]
  },
  {
   "cell_type": "code",
   "execution_count": 29,
   "metadata": {},
   "outputs": [
    {
     "name": "stdout",
     "output_type": "stream",
     "text": [
      " Volume in drive C has no label.\n",
      " Volume Serial Number is B45D-6A9E\n",
      "\n",
      " Directory of C:\\Users\\ksuna\\Downloads\\Python\n",
      "\n",
      "06/27/2019  11:06 AM    <DIR>          .\n",
      "06/27/2019  11:06 AM    <DIR>          ..\n",
      "06/27/2019  09:16 AM    <DIR>          .ipynb_checkpoints\n",
      "06/27/2019  11:06 AM             4,994 Day 10(27-06-2019).ipynb\n",
      "06/24/2019  05:05 PM             9,319 Day 7(24-06-2019).ipynb\n",
      "06/25/2019  05:18 PM             7,734 Day 8(25-06-2019).ipynb\n",
      "06/26/2019  07:41 PM            17,797 Day 9(26-06-2019).ipynb\n",
      "06/27/2019  11:06 AM               150 file1.txt\n",
      "06/21/2019  05:16 PM             4,959 operators (21-06-2019).ipynb\n",
      "06/21/2019  04:30 PM             2,066 Python.ipynb\n",
      "06/22/2019  03:49 PM            10,682 statements(22-06-2019).ipynb\n",
      "06/21/2019  04:21 PM                72 Untitled1.ipynb\n",
      "06/21/2019  09:16 PM               669 Untitled2.ipynb\n",
      "06/22/2019  09:21 AM             1,136 Untitled3.ipynb\n",
      "              11 File(s)         59,578 bytes\n",
      "               3 Dir(s)  928,084,688,896 bytes free\n"
     ]
    }
   ],
   "source": [
    "ls"
   ]
  },
  {
   "cell_type": "code",
   "execution_count": 31,
   "metadata": {},
   "outputs": [
    {
     "name": "stdout",
     "output_type": "stream",
     "text": [
      "10\n"
     ]
    }
   ],
   "source": [
    "def DataAnalysisWorkCount(filename,word):\n",
    "    f = open(filename,\"r\")\n",
    "    if f.mode==\"r\":\n",
    "        x=f.read()\n",
    "        lst=x.split()\n",
    "    cnt = lst.count(word)\n",
    "    return cnt\n",
    "print(DataAnalysisWorkCount(\"file1.txt\",\"Line\"))"
   ]
  },
  {
   "cell_type": "code",
   "execution_count": 44,
   "metadata": {},
   "outputs": [
    {
     "name": "stdout",
     "output_type": "stream",
     "text": [
      "139\n"
     ]
    }
   ],
   "source": [
    "#Function to count of characters in file\n",
    "def CountCharacters(filename):\n",
    "    f = open(filename,\"r\")\n",
    "    if f.mode==\"r\":\n",
    "        x=f.read()\n",
    "        lst=list(x)\n",
    "    return len(lst)\n",
    "print(CountCharacters(\"file1.txt\"))"
   ]
  },
  {
   "cell_type": "code",
   "execution_count": 71,
   "metadata": {},
   "outputs": [
    {
     "data": {
      "text/plain": [
       "22"
      ]
     },
     "execution_count": 71,
     "metadata": {},
     "output_type": "execute_result"
    }
   ],
   "source": [
    "#Function to count the upper case characters\n",
    "def CountUpperCaseCharacters(filename):\n",
    "    f = open(filename,\"r\")\n",
    "    cntupper=0\n",
    "    if f.mode==\"r\":\n",
    "        x=f.read()\n",
    "        lst = list(x)\n",
    "    for i in lst:\n",
    "        if i.isupper():\n",
    "            cntupper += 1\n",
    "    return cntupper\n",
    "CountUpperCaseCharacters(\"file1.txt\")"
   ]
  },
  {
   "cell_type": "code",
   "execution_count": 79,
   "metadata": {},
   "outputs": [
    {
     "name": "stdout",
     "output_type": "stream",
     "text": [
      "12\n"
     ]
    }
   ],
   "source": [
    "#Function to count the lines in given file\n",
    "def CountLines(filename):\n",
    "    f = open(filename,\"r\")\n",
    "    cntupper=0\n",
    "    if f.mode==\"r\":\n",
    "        x=f.read()\n",
    "        lst=x.split(\"\\n\")\n",
    "    return len(lst)\n",
    "print(CountLines(\"file1.txt\"))"
   ]
  },
  {
   "cell_type": "code",
   "execution_count": 87,
   "metadata": {},
   "outputs": [
    {
     "ename": "SyntaxError",
     "evalue": "invalid syntax (<ipython-input-87-0bccb725251b>, line 1)",
     "output_type": "error",
     "traceback": [
      "\u001b[1;36m  File \u001b[1;32m\"<ipython-input-87-0bccb725251b>\"\u001b[1;36m, line \u001b[1;32m1\u001b[0m\n\u001b[1;33m    cat file1.txt\u001b[0m\n\u001b[1;37m            ^\u001b[0m\n\u001b[1;31mSyntaxError\u001b[0m\u001b[1;31m:\u001b[0m invalid syntax\n"
     ]
    }
   ],
   "source": [
    "cat file1.txt"
   ]
  },
  {
   "cell_type": "markdown",
   "metadata": {},
   "source": [
    "* pattern matching\n",
    "* symbolic notation of a pattern \n",
    "   *pattern(RE)represents the set of values that are given in pattern \n",
    "*[0-9]->any digit\n",
    "*[a-z]->any lower case characters\n",
    "*[A-Z]->any upper case characters\n",
    "*[2468]->all the single digit multiples of 2\n",
    "*^[0-9]{1}$->only single digit number\n",
    "   *cap symbol is used for start of regular expression\n",
    "   *dollar symbol is used for end of regular expression\n",
    "*^[0-9]{3}$->regular expression will accept only three digit number\n",
    "*^[a-z]{5}$->it only accept the 5 character string that to lower case character\n",
    "#^[a-zA-Z]{6}$->a string can be of upper case or lower case characters\n",
    "#^[a-zA-Z]{6-15}$->a string min of 6 characters and max of 15 characters(upper case or lower case)\n",
    "#^[a-zA-Z0-9]{6-15}$->upper,lower,digits\n",
    "#^[6-9][0-9]"
   ]
  },
  {
   "cell_type": "markdown",
   "metadata": {},
   "source": [
    "#regular expression for indian mobile number\n",
    "#Validation for EmailID Username@DomainName,extension\n"
   ]
  },
  {
   "cell_type": "code",
   "execution_count": 93,
   "metadata": {},
   "outputs": [
    {
     "name": "stdout",
     "output_type": "stream",
     "text": [
      "True\n",
      "False\n",
      "False\n"
     ]
    }
   ],
   "source": [
    "import re\n",
    "def phoneNumberValidate(phone):\n",
    "    pattern = '^[6-9][0-9]{9}$'\n",
    "    phone=str(phone)\n",
    "    if re.match(pattern,phone):\n",
    "        return True\n",
    "    return False\n",
    "print(phoneNumberValidate(9876543210))\n",
    "print(phoneNumberValidate(\"+1417894561320\"))\n",
    "print(phoneNumberValidate(987654))"
   ]
  },
  {
   "cell_type": "code",
   "execution_count": 94,
   "metadata": {},
   "outputs": [
    {
     "name": "stdout",
     "output_type": "stream",
     "text": [
      "False\n",
      "False\n",
      "False\n"
     ]
    }
   ],
   "source": [
    "import re\n",
    "def phoneNumberValidate(phone):\n",
    "    pattern = '^[6-9][0-9]{9}$^[0][6-9][0-9]{9}$[+][9][1][6-9][0-9]{9}$'\n",
    "    phone=str(phone)\n",
    "    if re.match(pattern,phone):\n",
    "        return True\n",
    "    return False\n",
    "print(phoneNumberValidate(9876543210))\n",
    "print(phoneNumberValidate(\"+1417894561320\"))\n",
    "print(phoneNumberValidate(987654))"
   ]
  },
  {
   "cell_type": "markdown",
   "metadata": {},
   "source": [
    "**user name: \n",
    "             *lenghth will be : [6-18]\n",
    "             *no special chars apart from\n",
    "             *should not begin and end with\n",
    "             *character set : all digits and lower case alaphabates\n",
    "**domain name:\n",
    "             *length of domain : [3,18]\n",
    "             *no special characters"
   ]
  },
  {
   "cell_type": "code",
   "execution_count": 96,
   "metadata": {},
   "outputs": [
    {
     "name": "stdout",
     "output_type": "stream",
     "text": [
      "True\n",
      "False\n"
     ]
    }
   ],
   "source": [
    "import re\n",
    "def validateEmailID(email):\n",
    "    pattern = \"^[0-9a-z][0-9a-z_,]{4,13}[0-9a-z][@][a-z0-9]{3,18}[.][a-z]{2,4}$\"\n",
    "    if re.match(pattern,email):\n",
    "        return True\n",
    "    return False\n",
    "print(validateEmailID(\"221810304022@gitam.in\"))\n",
    "print(validateEmailID(\"$bheem3@gmail.com\"))"
   ]
  },
  {
   "cell_type": "code",
   "execution_count": 97,
   "metadata": {},
   "outputs": [
    {
     "name": "stdout",
     "output_type": "stream",
     "text": [
      "True\n",
      "False\n"
     ]
    }
   ],
   "source": [
    "import re\n",
    "def validateEmailID(email):\n",
    "    pattern = \"^[0-9a-z][0-9a-z_,]{4,13}[0-9a-z][@][a-z0-9]{3,18}[.][a-z]{2,4}$\"\n",
    "    if re.match(pattern,email):\n",
    "        return True\n",
    "    return False\n",
    "print(validateEmailID(\"221810304022@gitam.in\"))\n",
    "print(validateEmailID(\"$bheem3@gmail.com\"))"
   ]
  },
  {
   "cell_type": "code",
   "execution_count": 102,
   "metadata": {},
   "outputs": [
    {
     "name": "stdout",
     "output_type": "stream",
     "text": [
      "File is created successfully\n"
     ]
    }
   ],
   "source": [
    "def createFile(filename):\n",
    "    f = open(filename,\"w\")\n",
    "    for i in range(5):\n",
    "        f.write(\"that is %d Line\\n\"% i)\n",
    "    print(\"File is created successfully\")\n",
    "    f.close()\n",
    "    return\n",
    "createFile(\"file2.txt\")"
   ]
  },
  {
   "cell_type": "code",
   "execution_count": 100,
   "metadata": {},
   "outputs": [
    {
     "name": "stdout",
     "output_type": "stream",
     "text": [
      "that is 0 Line\n",
      "that is 1 Line\n",
      "that is 2 Line\n",
      "that is 3 Line\n",
      "that is 4 Line\n",
      "\n"
     ]
    }
   ],
   "source": [
    "def readFile(filename):\n",
    "    f = open(filename,\"r\")\n",
    "    if f.mode == \"r\":\n",
    "        x=f.read()\n",
    "        print(x)\n",
    "    f.close()\n",
    "    return\n",
    "readFile(\"file2.txt\")"
   ]
  },
  {
   "cell_type": "code",
   "execution_count": 101,
   "metadata": {},
   "outputs": [
    {
     "data": {
      "text/plain": [
       "45"
      ]
     },
     "execution_count": 101,
     "metadata": {},
     "output_type": "execute_result"
    }
   ],
   "source": [
    "def CountLowerCaseCharacters(filename):\n",
    "    f = open(filename,\"r\")\n",
    "    cntlower=0\n",
    "    if f.mode==\"r\":\n",
    "        x=f.read()\n",
    "        lst = list(x)\n",
    "    for i in lst:\n",
    "        if i.islower():\n",
    "            cntlower += 1\n",
    "    return cntlower\n",
    "CountLowerCaseCharacters(\"file2.txt\")"
   ]
  },
  {
   "cell_type": "code",
   "execution_count": null,
   "metadata": {},
   "outputs": [],
   "source": []
  }
 ],
 "metadata": {
  "kernelspec": {
   "display_name": "Python 3",
   "language": "python",
   "name": "python3"
  },
  "language_info": {
   "codemirror_mode": {
    "name": "ipython",
    "version": 3
   },
   "file_extension": ".py",
   "mimetype": "text/x-python",
   "name": "python",
   "nbconvert_exporter": "python",
   "pygments_lexer": "ipython3",
   "version": "3.7.3"
  }
 },
 "nbformat": 4,
 "nbformat_minor": 2
}
