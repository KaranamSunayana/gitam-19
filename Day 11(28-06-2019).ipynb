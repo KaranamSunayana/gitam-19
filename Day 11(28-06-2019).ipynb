{
 "cells": [
  {
   "cell_type": "markdown",
   "metadata": {},
   "source": [
    "### Introduction to OOP Python\n",
    "\n",
    "   One of the popular approach to slove a programming problem by creating an objects, This is known as Object Oriented Programming<br>\n",
    "   \n",
    "   An object as two characteristics<br>:\n",
    "   1.attributes(name,age,color)<br>\n",
    "   2.behaviour(learn,study,singing,dance)<br>\n",
    "   \n",
    "   In Python the concept OOP follow  these things:<br>\n",
    "   1.Inheritance<br>\n",
    "   2.Encapsulation<br>\n",
    "   3.Polymorphism<br>\n",
    "   \n",
    "   class:<br>\n",
    "         A class is a blue of the objects<br>\n",
    "   object:<br>\n",
    "         Blue print of class or Instance of the class or Logical entity<br>\n",
    "         \n",
    " "
   ]
  },
  {
   "cell_type": "markdown",
   "metadata": {},
   "source": [
    "** class classname:<br>\n",
    "    #some functions and variables<br>\n",
    "    #function----used to perform the specific activity<br>\n",
    "    #variables--data(memory)<br>"
   ]
  },
  {
   "cell_type": "code",
   "execution_count": 7,
   "metadata": {},
   "outputs": [
    {
     "name": "stdout",
     "output_type": "stream",
     "text": [
      "Test() for function\n"
     ]
    }
   ],
   "source": [
    "def test():\n",
    "    print('Test() for function')\n",
    "    return\n",
    "test()\n",
    "    "
   ]
  },
  {
   "cell_type": "code",
   "execution_count": 9,
   "metadata": {},
   "outputs": [
    {
     "name": "stdout",
     "output_type": "stream",
     "text": [
      "Test() for the class and method\n"
     ]
    }
   ],
   "source": [
    "class Demo:\n",
    "    def test(self):\n",
    "        print(\"Test() for the class and method\")\n",
    "        return\n",
    "obj = Demo()\n",
    "obj.test()"
   ]
  },
  {
   "cell_type": "code",
   "execution_count": 14,
   "metadata": {},
   "outputs": [
    {
     "name": "stdout",
     "output_type": "stream",
     "text": [
      "120\n"
     ]
    }
   ],
   "source": [
    "class Demo1:\n",
    "    def fact(self,n):\n",
    "        #return the factorial\n",
    "        fact=1\n",
    "        while(n!=0):\n",
    "            fact = fact * n\n",
    "            n = n-1\n",
    "        return fact\n",
    "p1 = Demo1()\n",
    "print(p1.fact(5))"
   ]
  },
  {
   "cell_type": "code",
   "execution_count": 21,
   "metadata": {},
   "outputs": [
    {
     "name": "stdout",
     "output_type": "stream",
     "text": [
      "p1 =  10\n",
      "p2 =  20\n"
     ]
    }
   ],
   "source": [
    "class Demo2:\n",
    "    def accept(self,p1,p2):\n",
    "        a=p1\n",
    "        b=p2\n",
    "        return\n",
    "    def display(self,p1,p2):\n",
    "        print(\"p1 = \",p1)\n",
    "        print(\"p2 = \",p2)\n",
    "c1 = Demo2()\n",
    "c1.accept(10,20)\n",
    "c1.display(10,20)"
   ]
  },
  {
   "cell_type": "code",
   "execution_count": 23,
   "metadata": {},
   "outputs": [
    {
     "name": "stdout",
     "output_type": "stream",
     "text": [
      "300\n"
     ]
    }
   ],
   "source": [
    "class Demo2:\n",
    "    def __init__(self,p1,p2):\n",
    "        self.p1 = p1\n",
    "        self.p2 = p2\n",
    "        \n",
    "    def add(self,p1,p2):\n",
    "        return p1 + p2\n",
    "c1 = Demo2(10,20)\n",
    "print(c1.add(100,200))   "
   ]
  },
  {
   "cell_type": "code",
   "execution_count": 31,
   "metadata": {
    "scrolled": true
   },
   "outputs": [
    {
     "name": "stdout",
     "output_type": "stream",
     "text": [
      "Anil False\n",
      "Arvind True\n"
     ]
    }
   ],
   "source": [
    "# Some inheritance\n",
    "#parent class\n",
    "class person(object):\n",
    "      #constructor\n",
    "    def __init__(self,name):\n",
    "        self.name=name\n",
    "    def getName(self):\n",
    "        return self.name\n",
    "    def isEmployee(self):\n",
    "        return False\n",
    "#Derived class\n",
    "class Employee(person):\n",
    "    def isEmployee(self):\n",
    "        return True\n",
    "    \n",
    "emp = person(\"Anil\")\n",
    "print(emp.getName(),emp.isEmployee())\n",
    "\n",
    "emp1 = Employee(\"Arvind\")\n",
    "print(emp1.getName(),emp1.isEmployee())\n"
   ]
  },
  {
   "cell_type": "code",
   "execution_count": 28,
   "metadata": {},
   "outputs": [
    {
     "name": "stdout",
     "output_type": "stream",
     "text": [
      "[1, 2, 3, 4]\n"
     ]
    }
   ],
   "source": [
    "lst = [1,2,3,4]\n",
    "print(lst)"
   ]
  },
  {
   "cell_type": "code",
   "execution_count": 34,
   "metadata": {},
   "outputs": [
    {
     "name": "stdout",
     "output_type": "stream",
     "text": [
      "[1 2 3 4]\n"
     ]
    }
   ],
   "source": [
    "import numpy as np\n",
    "lst = [1,2,3,4]\n",
    "array = np.array(lst)\n",
    "print(array)"
   ]
  },
  {
   "cell_type": "code",
   "execution_count": 36,
   "metadata": {},
   "outputs": [
    {
     "name": "stdout",
     "output_type": "stream",
     "text": [
      "(4,)\n",
      "float64\n"
     ]
    }
   ],
   "source": [
    "lst = [1,2.6,3,4]\n",
    "array = np.array(lst)\n",
    "print(array.shape)\n",
    "print(array.dtype)"
   ]
  },
  {
   "cell_type": "code",
   "execution_count": 38,
   "metadata": {},
   "outputs": [
    {
     "name": "stdout",
     "output_type": "stream",
     "text": [
      "(2, 3)\n",
      "(3, 2)\n"
     ]
    }
   ],
   "source": [
    "a1 = np.array([(1,2,3),(4,5,6)])\n",
    "print(a1.shape)\n",
    "a2 = np.array([(1,2),(3,4),(5,6)])\n",
    "print(a2.shape) "
   ]
  },
  {
   "cell_type": "code",
   "execution_count": 40,
   "metadata": {},
   "outputs": [
    {
     "name": "stdout",
     "output_type": "stream",
     "text": [
      "[[1 2 3]\n",
      " [4 5 6]]\n"
     ]
    },
    {
     "data": {
      "text/plain": [
       "array([[1, 2],\n",
       "       [3, 4],\n",
       "       [5, 6]])"
      ]
     },
     "execution_count": 40,
     "metadata": {},
     "output_type": "execute_result"
    }
   ],
   "source": [
    "# Re-shape the given array\n",
    "# numpy.reshape(arrayname,reshape,order='C')\n",
    "a1 = np.array([(1,2,3),(4,5,6)])\n",
    "print(a1)\n",
    "a1.reshape(3,2)"
   ]
  },
  {
   "cell_type": "code",
   "execution_count": 41,
   "metadata": {},
   "outputs": [
    {
     "name": "stdout",
     "output_type": "stream",
     "text": [
      "[1 2 3 4 5 6]\n"
     ]
    }
   ],
   "source": [
    "# Append some data--Horizontally\n",
    "# Append some data--vertical\n",
    "\n",
    "a1 = np.array([1,2,3])\n",
    "a2 = np.array([4,5,6])\n",
    "print(np.hstack((a1,a2)))"
   ]
  },
  {
   "cell_type": "code",
   "execution_count": 43,
   "metadata": {},
   "outputs": [
    {
     "name": "stdout",
     "output_type": "stream",
     "text": [
      "[[1 2 3]\n",
      " [4 5 6]]\n"
     ]
    }
   ],
   "source": [
    "# Append some data--vertical\n",
    "# vstack(array1,array2) --will be arranged in automatically\n",
    "\n",
    "a1 = np.array([1,2,3])\n",
    "a2 = np.array([4,5,6])\n",
    "print(np.vstack((a1,a2)))"
   ]
  },
  {
   "cell_type": "code",
   "execution_count": 45,
   "metadata": {},
   "outputs": [
    {
     "name": "stdout",
     "output_type": "stream",
     "text": [
      "[5.00711333 4.74301141 4.31074921 5.46201794 5.15711661 5.42621995\n",
      " 5.04688298 5.08437241 4.72905643 4.47066674]\n"
     ]
    }
   ],
   "source": [
    "# Generate random number from NP\n",
    "\n",
    "a1 = np.random.normal(5,0.5,10)\n",
    "print(a1)"
   ]
  },
  {
   "cell_type": "code",
   "execution_count": 46,
   "metadata": {},
   "outputs": [
    {
     "data": {
      "text/plain": [
       "array([[0., 0.],\n",
       "       [0., 0.]])"
      ]
     },
     "execution_count": 46,
     "metadata": {},
     "output_type": "execute_result"
    }
   ],
   "source": [
    "#numpy.zeros and numpy.one()\n",
    "\n",
    "#Generate an array with all zeros -- numpy.zeros()\n",
    "\n",
    "#numpy.zeros(shape,dtype = float,order = 'C')\n",
    "\n",
    "np.zeros((2,2))"
   ]
  },
  {
   "cell_type": "code",
   "execution_count": 47,
   "metadata": {},
   "outputs": [
    {
     "data": {
      "text/plain": [
       "array([[0, 0],\n",
       "       [0, 0]], dtype=int64)"
      ]
     },
     "execution_count": 47,
     "metadata": {},
     "output_type": "execute_result"
    }
   ],
   "source": [
    "np.zeros((2,2),dtype=np.int64)"
   ]
  },
  {
   "cell_type": "code",
   "execution_count": 48,
   "metadata": {},
   "outputs": [
    {
     "data": {
      "text/plain": [
       "array([[1, 1, 1],\n",
       "       [1, 1, 1],\n",
       "       [1, 1, 1],\n",
       "       [1, 1, 1]], dtype=int64)"
      ]
     },
     "execution_count": 48,
     "metadata": {},
     "output_type": "execute_result"
    }
   ],
   "source": [
    "np.ones((4,3),dtype=np.int64)"
   ]
  },
  {
   "cell_type": "code",
   "execution_count": 57,
   "metadata": {},
   "outputs": [
    {
     "name": "stdout",
     "output_type": "stream",
     "text": [
      "[[1 1 1 1]\n",
      " [1 1 1 1]\n",
      " [5 5 5 5]\n",
      " [1 1 1 1]]\n"
     ]
    }
   ],
   "source": [
    "A = np.matrix(np.ones((4,4),dtype=np.int64))\n",
    "np.asarray(A)[2] = 5\n",
    "print(A)"
   ]
  },
  {
   "cell_type": "code",
   "execution_count": 59,
   "metadata": {},
   "outputs": [
    {
     "name": "stdout",
     "output_type": "stream",
     "text": [
      "[[ 1  1  1  1]\n",
      " [ 1  1  1  1]\n",
      " [ 1  1  1 14]\n",
      " [ 1  1  1 16]]\n"
     ]
    }
   ],
   "source": [
    "A = np.matrix(np.ones((4,4),dtype=np.int64))\n",
    "np.asarray(A)[2][3] = 14\n",
    "np.asarray(A)[3][3] = 16\n",
    "print(A)"
   ]
  },
  {
   "cell_type": "code",
   "execution_count": 61,
   "metadata": {},
   "outputs": [
    {
     "data": {
      "text/plain": [
       "array([1, 2, 3, 4, 5, 6, 7, 8, 9])"
      ]
     },
     "execution_count": 61,
     "metadata": {},
     "output_type": "execute_result"
    }
   ],
   "source": [
    "import numpy as np\n",
    "np.arange(1,10)"
   ]
  },
  {
   "cell_type": "code",
   "execution_count": 62,
   "metadata": {},
   "outputs": [
    {
     "data": {
      "text/plain": [
       "array([ 1, 10, 19, 28, 37, 46, 55, 64, 73, 82, 91])"
      ]
     },
     "execution_count": 62,
     "metadata": {},
     "output_type": "execute_result"
    }
   ],
   "source": [
    "np.arange(1,100,9)"
   ]
  },
  {
   "cell_type": "code",
   "execution_count": 63,
   "metadata": {},
   "outputs": [
    {
     "data": {
      "text/plain": [
       "array([ 1,  3,  5,  7,  9, 11, 13, 15, 17, 19, 21, 23])"
      ]
     },
     "execution_count": 63,
     "metadata": {},
     "output_type": "execute_result"
    }
   ],
   "source": [
    "np.arange(2,20,2)\n",
    "np.arange(1,25,2)"
   ]
  },
  {
   "cell_type": "code",
   "execution_count": 64,
   "metadata": {},
   "outputs": [
    {
     "name": "stdout",
     "output_type": "stream",
     "text": [
      "First row :  [1 2 3]\n"
     ]
    }
   ],
   "source": [
    "a1 = np.array([(1,2,3),(4,5,6)])\n",
    "print(\"First row : \",a1[0])"
   ]
  },
  {
   "cell_type": "code",
   "execution_count": 65,
   "metadata": {},
   "outputs": [
    {
     "name": "stdout",
     "output_type": "stream",
     "text": [
      "Second row :  [1 2 3]\n"
     ]
    }
   ],
   "source": [
    "a1 = np.array([(1,2,3),(4,5,6)])\n",
    "print(\"Second row : \",a1[0])"
   ]
  },
  {
   "cell_type": "code",
   "execution_count": 67,
   "metadata": {},
   "outputs": [
    {
     "name": "stdout",
     "output_type": "stream",
     "text": [
      "Siling column :  [2 5]\n"
     ]
    }
   ],
   "source": [
    "a1 = np.array([(1,2,3),(4,5,6)])\n",
    "print(\"Siling column : \",a1[:,1])"
   ]
  },
  {
   "cell_type": "code",
   "execution_count": 68,
   "metadata": {},
   "outputs": [
    {
     "name": "stdout",
     "output_type": "stream",
     "text": [
      "Siling last column :  [3 6]\n"
     ]
    }
   ],
   "source": [
    "a1 = np.array([(1,2,3),(4,5,6)])\n",
    "print(\"Siling last column : \",a1[:,2])"
   ]
  },
  {
   "cell_type": "code",
   "execution_count": 70,
   "metadata": {},
   "outputs": [
    {
     "name": "stdout",
     "output_type": "stream",
     "text": [
      "Row and Column [[4 5 6]]\n"
     ]
    }
   ],
   "source": [
    "a1 = np.array([(1,2,3),(4,5,6)])\n",
    "print(\"Row and Column\",a1[1:2])"
   ]
  },
  {
   "cell_type": "code",
   "execution_count": 73,
   "metadata": {},
   "outputs": [
    {
     "name": "stdout",
     "output_type": "stream",
     "text": [
      "column and row []\n"
     ]
    }
   ],
   "source": [
    "a1 = np.array([(1,2,3),(4,5,6)])\n",
    "print(\"column and row\",a1[2:1])"
   ]
  },
  {
   "cell_type": "code",
   "execution_count": 75,
   "metadata": {},
   "outputs": [
    {
     "name": "stdout",
     "output_type": "stream",
     "text": [
      "Row and Column [4]\n"
     ]
    }
   ],
   "source": [
    "a1 = np.array([(1,2,3),(4,5,6)])\n",
    "print(\"Row and Column\",a1[1,:1])"
   ]
  },
  {
   "cell_type": "code",
   "execution_count": 77,
   "metadata": {},
   "outputs": [
    {
     "name": "stdout",
     "output_type": "stream",
     "text": [
      "[5.5161919  5.46316787 5.09444618 4.3707544  5.42565479 5.5954047\n",
      " 4.84537285 5.40068041 5.04617487 5.9584247 ]\n"
     ]
    }
   ],
   "source": [
    "a1 = np.random.normal(5,1,10)\n",
    "print(a1)"
   ]
  },
  {
   "cell_type": "code",
   "execution_count": 78,
   "metadata": {},
   "outputs": [
    {
     "name": "stdout",
     "output_type": "stream",
     "text": [
      "[4.34317477 5.84532619 5.31820387 5.62218926 4.05593534 5.49881755\n",
      " 4.81557515 4.46862117 4.65921065 5.37030677]\n",
      "Min value =  4.055935341552362\n",
      "Max value =  5.84532619012746\n",
      "Mean value =  4.999736070649323\n",
      "Median value =  5.066889507792373\n"
     ]
    }
   ],
   "source": [
    "# Some math Operation on given random numbers\n",
    "#min     --returns the least number\n",
    "#max     --returns the large number\n",
    "#mean    --mean\n",
    "#median  --median\n",
    "\n",
    "a1 = np.random.normal(5,0.5,10)\n",
    "print(a1)\n",
    "print(\"Min value = \",np.min(a1))\n",
    "print(\"Max value = \",np.max(a1))\n",
    "print(\"Mean value = \",np.mean(a1))\n",
    "print(\"Median value = \",np.median(a1))"
   ]
  },
  {
   "cell_type": "code",
   "execution_count": 81,
   "metadata": {},
   "outputs": [
    {
     "data": {
      "text/plain": [
       "array([[ 5,  8],\n",
       "       [13, 20]])"
      ]
     },
     "execution_count": 81,
     "metadata": {},
     "output_type": "execute_result"
    }
   ],
   "source": [
    "# Multiply of 1D arrays\n",
    "# numpy,dot(x,y) --\n",
    "\n",
    "c1 = np.array([(1,2),(3,4)])\n",
    "c2 = np.array([(3,4),(1,2)])\n",
    "np.dot(c1,c2)"
   ]
  },
  {
   "cell_type": "markdown",
   "metadata": {},
   "source": [
    "## Pandas Basics\n",
    "\n",
    "Python is one of the popular programming language for data analysis<br>\n",
    "Python is offering the Lib called pandas used for importing and analyzing pretty much faster andeasier also<br>\n",
    "Pandas data frames<br>\n",
    "       Data analysis with Python<br>\n",
    "Pandas Data Frames Data Analysis with Python<br>"
   ]
  },
  {
   "cell_type": "code",
   "execution_count": 4,
   "metadata": {},
   "outputs": [
    {
     "name": "stdout",
     "output_type": "stream",
     "text": [
      "     Name            EmailID  MobileNumber Address\n",
      "0    Anil     anil1gmail.com           111     Hyd\n",
      "1  Arvind  arvind2@gmail.com           222     Hyd\n",
      "2    Akil    akil3@gmail.com           333     Hyd\n",
      "3    Ajay    ajay4@gmail.com           444     Hyd\n"
     ]
    }
   ],
   "source": [
    "import pandas as pd\n",
    "dict = {\"Name\":[\"Anil\",\"Arvind\",\"Akil\",\"Ajay\"],\"EmailID\":[\"anil1gmail.com\",\"arvind2@gmail.com\",\"akil3@gmail.com\",\"ajay4@gmail.com\"],\n",
    "       \"MobileNumber\":[111,222,333,444],\"Address\":[\"Hyd\",\"Hyd\",\"Hyd\",\"Hyd\"]}\n",
    "b = pd.DataFrame(dict)\n",
    "print(b)"
   ]
  },
  {
   "cell_type": "code",
   "execution_count": 5,
   "metadata": {},
   "outputs": [
    {
     "name": "stdout",
     "output_type": "stream",
     "text": [
      "      Name            EmailID  MobileNumber Address\n",
      "01    Anil     anil1gmail.com           111     Hyd\n",
      "02  Arvind  arvind2@gmail.com           222     Hyd\n",
      "03    Akil    akil3@gmail.com           333     Hyd\n",
      "04    Ajay    ajay4@gmail.com           444     Hyd\n"
     ]
    }
   ],
   "source": [
    "b.index = [\"01\",\"02\",\"03\",\"04\"]\n",
    "print(b)"
   ]
  },
  {
   "cell_type": "code",
   "execution_count": 7,
   "metadata": {},
   "outputs": [
    {
     "name": "stdout",
     "output_type": "stream",
     "text": [
      "      Name            EmailID  MobileNumber Address\n",
      "01    Anil     anil1gmail.com           111     Hyd\n",
      "02  Arvind  arvind2@gmail.com           222     Hyd\n",
      "03    Akil    akil3@gmail.com           333     Hyd\n",
      "04    Ajay    ajay4@gmail.com           444     Hyd\n"
     ]
    }
   ],
   "source": [
    "import pandas as pd\n",
    "dict = {\"Name\":[\"Anil\",\"Arvind\",\"Akil\",\"Ajay\"],\"EmailID\":[\"anil1gmail.com\",\"arvind2@gmail.com\",\"akil3@gmail.com\",\"ajay4@gmail.com\"],\n",
    "       \"MobileNumber\":[111,222,333,444],\"Address\":[\"Hyd\",\"Hyd\",\"Hyd\",\"Hyd\"]}\n",
    "b = pd.DataFrame(dict)\n",
    "b.index = [\"01\",\"02\",\"03\",\"04\"]\n",
    "print(b)"
   ]
  },
  {
   "cell_type": "code",
   "execution_count": 20,
   "metadata": {},
   "outputs": [
    {
     "name": "stdout",
     "output_type": "stream",
     "text": [
      "The strings aren't anagrams.\n"
     ]
    }
   ],
   "source": [
    "def check(s1, s2): \n",
    "    if(sorted(s1) == sorted(s2)): \n",
    "        print(\"The strings are anagrams.\")  \n",
    "    else: \n",
    "        print(\"The strings aren't anagrams.\") \n",
    "s1 = \"abc\"\n",
    "s2 = \"ert\"\n",
    "check(s1,s2)"
   ]
  },
  {
   "cell_type": "code",
   "execution_count": 29,
   "metadata": {},
   "outputs": [
    {
     "ename": "SyntaxError",
     "evalue": "invalid syntax (<ipython-input-29-2d96bd674769>, line 4)",
     "output_type": "error",
     "traceback": [
      "\u001b[1;36m  File \u001b[1;32m\"<ipython-input-29-2d96bd674769>\"\u001b[1;36m, line \u001b[1;32m4\u001b[0m\n\u001b[1;33m    elif:\u001b[0m\n\u001b[1;37m        ^\u001b[0m\n\u001b[1;31mSyntaxError\u001b[0m\u001b[1;31m:\u001b[0m invalid syntax\n"
     ]
    }
   ],
   "source": [
    "def check(s1,s2):\n",
    "    if len(s1)!=len(s2):\n",
    "        print(False)\n",
    "    elif:\n",
    "        \n",
    "    else:\n",
    "        print(True)\n",
    "s1=\"abc\"\n",
    "s2=\"bsd\"\n",
    "check(s1,s2)"
   ]
  },
  {
   "cell_type": "code",
   "execution_count": null,
   "metadata": {},
   "outputs": [],
   "source": []
  },
  {
   "cell_type": "code",
   "execution_count": null,
   "metadata": {},
   "outputs": [],
   "source": []
  },
  {
   "cell_type": "code",
   "execution_count": null,
   "metadata": {},
   "outputs": [],
   "source": []
  }
 ],
 "metadata": {
  "kernelspec": {
   "display_name": "Python 3",
   "language": "python",
   "name": "python3"
  },
  "language_info": {
   "codemirror_mode": {
    "name": "ipython",
    "version": 3
   },
   "file_extension": ".py",
   "mimetype": "text/x-python",
   "name": "python",
   "nbconvert_exporter": "python",
   "pygments_lexer": "ipython3",
   "version": "3.7.3"
  }
 },
 "nbformat": 4,
 "nbformat_minor": 2
}
